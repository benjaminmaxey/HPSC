{
 "cells": [
  {
   "cell_type": "markdown",
   "metadata": {},
   "source": [
    "Ben Maxey\n",
    "\n",
    "MATH 3316\n",
    "\n",
    "9/15/16"
   ]
  },
  {
   "cell_type": "markdown",
   "metadata": {},
   "source": [
    " "
   ]
  },
  {
   "cell_type": "markdown",
   "metadata": {},
   "source": [
    "# Project 1 - Taylor Series and Floating-Point Error"
   ]
  },
  {
   "cell_type": "markdown",
   "metadata": {},
   "source": [
    "## Part 1 - Approximation of a Function by Taylor Polynomials"
   ]
  },
  {
   "cell_type": "markdown",
   "metadata": {},
   "source": [
    "   In this section we were tasked with approximating the function $f(x) = e^x$ using Taylor polynomials of degree 4, 8, and 12, then analyzing the error associated with each approximation.  The approximation was to be carried out in the range $-1 \\leq x \\leq 1$, as the maximum error within this range should remain relatively small.  In order to compute values of the Taylor polynomials, I needed a function that could efficiently evaluate polynomials.  Thus, the first step in approximating $e^x$ was to implement Horner's algorithm, which evalutates polynomials using nested multiplication.  This algorithm was written in a function in the file \"nest.cpp\":"
   ]
  },
  {
   "cell_type": "code",
   "execution_count": null,
   "metadata": {
    "collapsed": true
   },
   "outputs": [],
   "source": [
    "#include \"nest.h\"\n",
    "\n",
    "//Evaluates a polynomial at x.  The coefficients of the polynomial\n",
    "//should be stored in a.\n",
    "double nest(Matrix& a, double x)\n",
    "{\n",
    "\tint n = a.Cols() - 1;\n",
    "\tdouble output = a(n);\n",
    "\n",
    "\tfor (int i = n - 1; i >= 0; i--)\n",
    "\t\toutput = a(i) + (x * output);\n",
    "\n",
    "\treturn output;\n",
    "}"
   ]
  },
  {
   "cell_type": "markdown",
   "metadata": {},
   "source": [
    "As parameters, the nest function takes a matrix containing the coefficients of the polynomial to be evaluated and a value at which to evaluate the polynomial.  Horner's algorithm runs in $O(n)$ time and is significantly faster than just plugging in values, which would run in $O(n^2)$ time.  The next task was to create matrices containing the coefficients of each of the three Taylor polynomials.  For $e^x$ at $x=0$, the coefficients of the Taylor polynomial are $a_n = \\frac{1}{n!}$.  In \"proj1_a.cpp,\" I wrote a standalone function, \"exponentialTaylor\" that generates coefficent matrices for a given degree:"
   ]
  },
  {
   "cell_type": "code",
   "execution_count": null,
   "metadata": {
    "collapsed": true
   },
   "outputs": [],
   "source": [
    "//Returns the factorial of n.\n",
    "int factorial(int n)\n",
    "{\n",
    "\tif (n <= 0)\n",
    "\t\treturn 1;\n",
    "\n",
    "\tint x = n, output = n;\n",
    "\twhile (x > 1)\n",
    "\t\toutput *= --x;\n",
    "\n",
    "\treturn output;\n",
    "}\n",
    "\n",
    "//Returns a row vector with coefficients of the Taylor polynomial of the \n",
    "//specified degree for e^x at x = 0.\n",
    "Matrix exponentialTaylor(int degree)\n",
    "{\n",
    "\tMatrix output(1, degree);\n",
    "\t\n",
    "\tfor (int i = 0; i < degree; i++)\n",
    "\t\toutput(i) = 1.0/(factorial(i));\n",
    "\n",
    "\treturn output;\n",
    "}"
   ]
  },
  {
   "cell_type": "markdown",
   "metadata": {},
   "source": [
    "Using this function, I was able to generate coefficient matrices for degrees 4, 8, and 12.  To generate the actual approximations of $e^x$, I simply called the nest function on each of these coefficient matrices for a range of x values between -1 and 1.  Generating the values for the approximations was accomplished in the function, \"evaluate.\"  Evaluate takes two matrices as inputs: the first is the range of values over which the polynomial will be evaluated, and the second is the coefficient matrix of the polynomial to be evaluated."
   ]
  },
  {
   "cell_type": "code",
   "execution_count": null,
   "metadata": {
    "collapsed": true
   },
   "outputs": [],
   "source": [
    "//Returns a matrix whose entries are the value of f(x) for all entries in x,\n",
    "//where f is a row vector containing the coefficients of a power series.\n",
    "Matrix evaluate(Matrix& x, Matrix& f)\n",
    "{\n",
    "\tMatrix output(1, x.Cols());\n",
    "\n",
    "\tfor (int i = 0; i < x.Cols(); i++)\n",
    "\t\toutput(i) = nest(f, x(i));\n",
    "\n",
    "\treturn output;\n",
    "}"
   ]
  },
  {
   "cell_type": "markdown",
   "metadata": {},
   "source": [
    "The last step is to calculate the error of each of the three approximations.  To do this, I wrote a function that generates a matrix containing the absolute value of the differences between parallel entries of two input matrices.  To generate the error matrices for each of the approximations, I called this function on each of the approximations with a matrix containing the true values of $e^x$.  I could have used the abs() function found in the cmath library to take the absolute value, but this function rounds the values that it returns.  When I used abs(), several small values were rounded to 0, which is inaccurate."
   ]
  },
  {
   "cell_type": "code",
   "execution_count": null,
   "metadata": {
    "collapsed": true
   },
   "outputs": [],
   "source": [
    "//Returns a matrix whose entries are the absolute value of the difference\n",
    "//between the values of f and p.\n",
    "Matrix error(Matrix& f, Matrix& p)\n",
    "{\n",
    "\tMatrix output(1, f.Cols());\n",
    "\n",
    "\tfor (int i = 0; i < f.Cols(); i++)\n",
    "\t{\n",
    "\t\tif (f(i) - p(i) >= 0)\n",
    "\t\t\toutput(i) = f(i) - p(i);\n",
    "\t\telse\n",
    "\t\t\toutput(i) = p(i) - f(i);\n",
    "\t}\n",
    "\t\n",
    "\treturn output;\n",
    "}"
   ]
  },
  {
   "cell_type": "markdown",
   "metadata": {},
   "source": [
    "The entire process is shown here in the main function of \"proj1_a.cpp.\""
   ]
  },
  {
   "cell_type": "code",
   "execution_count": null,
   "metadata": {
    "collapsed": true
   },
   "outputs": [],
   "source": [
    "#include <iostream>\n",
    "\n",
    "#include \"matrix.hpp\"\n",
    "#include \"nest.h\"\n",
    "\n",
    "int factorial(int n);\n",
    "Matrix exponentialTaylor(int degree);\n",
    "Matrix evaluate(Matrix& x, Matrix& f);\n",
    "Matrix error(Matrix& f, Matrix& p);\n",
    "\n",
    "int main(int argc, char** argv)\n",
    "{\n",
    "\t//Initialize matrix z.\n",
    "\tMatrix z = Linspace(-1.0, 1.0, 1, 201);\n",
    "\tz.Write(\"z.txt\");\n",
    "\n",
    "\t//Initialize Taylor polynomial coefficient matrices.\n",
    "\tMatrix coeff4 = exponentialTaylor(4);\n",
    "\tMatrix coeff8 = exponentialTaylor(8);\n",
    "\tMatrix coeff12 = exponentialTaylor(12);\n",
    "\n",
    "\t//Evaluate coefficient matrices for all values in z.\n",
    "\tMatrix p4 = evaluate(z, coeff4);\n",
    "\tMatrix p8 = evaluate(z, coeff8);\n",
    "\tMatrix p12 = evaluate(z, coeff12);\n",
    "\n",
    "\t//Write p4, p8, and p12.\n",
    "\tp4.Write(\"p4.txt\");\n",
    "\tp8.Write(\"p8.txt\");\n",
    "\tp12.Write(\"p12.txt\");\n",
    "\n",
    "\t//Evaluate exp(x) for all values in z, then write f.\n",
    "\tMatrix f(1, z.Cols());\n",
    "\tfor (int i = 0; i < z.Cols(); i++)\n",
    "\t\tf(i) = exp(z(i));\n",
    "\tf.Write(\"f.txt\");\n",
    "\n",
    "\t//Compute error for each vector and write the error vectors.\n",
    "\tMatrix err4 = error(f, p4);\n",
    "\tMatrix err8 = error(f, p8);\n",
    "\tMatrix err12 = error(f, p12);\n",
    "\terr4.Write(\"err4.txt\");\n",
    "\terr8.Write(\"err8.txt\");\n",
    "\terr12.Write(\"err12.txt\");\n",
    "}"
   ]
  },
  {
   "cell_type": "markdown",
   "metadata": {},
   "source": [
    "### Results"
   ]
  },
  {
   "cell_type": "code",
   "execution_count": 2,
   "metadata": {
    "collapsed": false
   },
   "outputs": [
    {
     "name": "stdout",
     "output_type": "stream",
     "text": [
      "Populating the interactive namespace from numpy and matplotlib\n"
     ]
    }
   ],
   "source": [
    "%pylab inline"
   ]
  },
  {
   "cell_type": "code",
   "execution_count": 4,
   "metadata": {
    "collapsed": false
   },
   "outputs": [],
   "source": [
    "z = loadtxt('z.txt')\n",
    "\n",
    "p4 = loadtxt('p4.txt')\n",
    "p8 = loadtxt('p8.txt')\n",
    "p12 = loadtxt('p12.txt')\n",
    "f = loadtxt('f.txt')\n",
    "\n",
    "err4 = loadtxt('err4.txt')\n",
    "err8 = loadtxt('err8.txt')\n",
    "err12 = loadtxt('err12.txt')"
   ]
  },
  {
   "cell_type": "code",
   "execution_count": 7,
   "metadata": {
    "collapsed": false
   },
   "outputs": [
    {
     "data": {
      "text/plain": [
       "<matplotlib.legend.Legend at 0x7f350a550828>"
      ]
     },
     "execution_count": 7,
     "metadata": {},
     "output_type": "execute_result"
    },
    {
     "data": {
      "image/png": "[encoded data removed]",
      "text/plain": [
       "<matplotlib.figure.Figure at 0x7f350a78b5c0>"
      ]
     },
     "metadata": {},
     "output_type": "display_data"
    }
   ],
   "source": [
    "plot(z,f,z,p4,z,p8,z,p12)\n",
    "xlabel('x')\n",
    "ylabel('Value of Function')\n",
    "title('Approximation of $e^x$ by Taylor Polynomials')\n",
    "legend(('$e^x$', '$p_4(x)$', '$p_8(x)$', '$p_{12}(x)$'), loc=2)"
   ]
  },
  {
   "cell_type": "markdown",
   "metadata": {},
   "source": [
    "From the above plot, it might be somewhat difficult to discern which of the approximations is the most accurate.  In the interval $-1 \\leq x \\leq 1$, all approximations are effective, yet each tends to slightly underapproximate $e^x$.  $p_{12}(x)$ is the best approximation, followed by $p_8(x)$, then finally $p_4(x)$.  Because the differences between the approximations are so difficult to see when plotted normally, it is helpful to examine the error of each approximation."
   ]
  },
  {
   "cell_type": "code",
   "execution_count": 8,
   "metadata": {
    "collapsed": false
   },
   "outputs": [
    {
     "data": {
      "text/plain": [
       "<matplotlib.legend.Legend at 0x7f350a5af668>"
      ]
     },
     "execution_count": 8,
     "metadata": {},
     "output_type": "execute_result"
    },
    {
     "data": {
      "image/png": "[encoded data removed]",
      "text/plain": [
       "<matplotlib.figure.Figure at 0x7f350a6bf4e0>"
      ]
     },
     "metadata": {},
     "output_type": "display_data"
    }
   ],
   "source": [
    "semilogy(z,err4,z,err8,z,err12)\n",
    "xlabel('x')\n",
    "ylabel('Error')\n",
    "title('Error in approximating $e^x$')\n",
    "legend(('$|e^x - p_4(x)|$', '$|e^x - p_8(x)|$', '$|e^x - p_{12}(x)|$'))"
   ]
  },
  {
   "cell_type": "markdown",
   "metadata": {},
   "source": [
    "As expected, the error for $p_4(x)$ is much greater than the error for $p_8(x)$, which is much greater than the error for $p_{12}(x)$.  For each approximation, the error decreases dramatically as x approaches the center of the approximation $(x = 0)$.  Theoretically, the maximum error for each approximation should adhere to the following formula:"
   ]
  },
  {
   "cell_type": "markdown",
   "metadata": {},
   "source": [
    "$$|e^x - p_n(x)| = |E_{n+1}|$$\n",
    "\n",
    "$$|E_{n+1}(x)| = \\frac{e^{c_x}}{(n + 1)!}|x|^{n + 1}, -1 < c_x < 1$$\n",
    "\n",
    "$$|E_{n+1}(x)| \\leq \\frac{e^1}{(n + 1)!}(1)^{n + 1}$$\n",
    "\n",
    "$$|E_{n+1}(x)| \\leq \\frac{e}{(n + 1)!}$$\n",
    "\n",
    "$$|e^x - p_4(x)| \\leq \\frac{e}{5!} < 0.02266$$\n",
    "\n",
    "$$|e^x - p_8(x)| \\leq \\frac{e}{9!} < 7.4910 * 10^{-6}$$\n",
    "\n",
    "$$|e^x - p_{12}(x)| \\leq \\frac{e}{13!} < 4.3654 * 10^{-10}$$"
   ]
  },
  {
   "cell_type": "markdown",
   "metadata": {},
   "source": [
    "However, the errors obtained in this project rose above these upper bounds.  The most likely explanation for this increase in error is that precision was lost due to rounding each time any calculation was made.  Because there were so many operations required to calculate the Taylor polynomials, precision was lost several times."
   ]
  },
  {
   "cell_type": "markdown",
   "metadata": {},
   "source": [
    "## Part 2 - Errors in a Forward Finite Difference Approximation"
   ]
  },
  {
   "cell_type": "markdown",
   "metadata": {
    "collapsed": true
   },
   "source": [
    "In this section we were tasked with approximating the derivative of the function $f(x) = x^3$ at $x = 3$ using a forward finite difference approximation.  This approximation is $\\delta^+f(a) = \\frac{f(a + h) - f(a)}{h}$.  As $h$, also called the increment, approaches 0, $\\delta^+f(a)$ approaches $f'(a)$.  For this section I used this sequence of increments: $h = 2^{-n} (n = 1,2,...,52)$.  Both the increments and the sequence of 1 to 52 were stored in matrices named h and n, respectively.  Next, I generated estimates of $f'(3)$ using the forward difference approximation for each increment in h.  This was accomplished by simply plugging values into the equation given above.  Then, I calculated the relative error in each of the approximations using the true value of $f'(3)$, which is -27.  Finally, for each increment, I calculated the upper bound for the relative error.  The maximum error is given by $R = |\\frac{f''(a)}{2f'(a)}|h + |\\frac{f(a)\\epsilon_{DP}}{f'(a)}|\\frac{1}{h}$.  The entire \"proj1_b.cpp\" file is given below."
   ]
  },
  {
   "cell_type": "code",
   "execution_count": null,
   "metadata": {
    "collapsed": true
   },
   "outputs": [],
   "source": [
    "#include <iostream>\n",
    "#include <cmath>\n",
    "\n",
    "#include \"matrix.hpp\"\n",
    "\n",
    "Matrix estimate(Matrix& increments);\n",
    "Matrix getRelError(Matrix& estimates);\n",
    "Matrix getMaxError(Matrix& increments);\n",
    "\n",
    "int main()\n",
    "{\n",
    "\tMatrix n = Linspace(1, 52, 1, 52);\n",
    "\tn.Write(\"n.txt\");\n",
    "\n",
    "\tMatrix h(1, 52);\n",
    "\tfor (int i = 0; i < 52; i++)\n",
    "\t\th(i) = exp2(-n(i));\n",
    "\th.Write(\"h.txt\");\n",
    "\n",
    "\tMatrix estimates = estimate(h);\n",
    "\testimates.Write(\"estimates.txt\");\n",
    "\n",
    "\tMatrix r = getRelError(estimates);\n",
    "\tr.Write(\"r.txt\");\n",
    "\n",
    "\tMatrix R = getMaxError(h);\n",
    "\tR.Write(\"R.txt\");\n",
    "}\n",
    "\n",
    "//This function returns an estimate of f'(3) using the\n",
    "//forward difference estimate with given increments\n",
    "Matrix estimate(Matrix& increments)\n",
    "{\n",
    "\tMatrix output(1, 52);\n",
    "\n",
    "\tfor (int i = 0; i < 52; i++)\n",
    "\t{\n",
    "\t\tdouble z = 3 + increments(i);\n",
    "\t\tdouble fah = pow(z,-3);\n",
    "\t\toutput(i) = (fah - (1.0/27.0)) / increments(i);\n",
    "\t}\n",
    "\n",
    "\treturn output;\n",
    "}\n",
    "\n",
    "//This function returns the relative error of the given estimates\n",
    "//with respect to the true value of f'(3)\n",
    "Matrix getRelError(Matrix& estimates)\n",
    "{\n",
    "\tMatrix output(1, 52);\n",
    "\tdouble correct = -(1.0/27);\n",
    "\n",
    "\tfor (int i = 0; i < 52; i++)\n",
    "\t{\n",
    "\t\tif (estimates(i) < correct)\n",
    "\t\t\toutput(i) = correct - estimates(i);\n",
    "\t\telse\n",
    "\t\t\toutput(i) = estimates(i) - correct;\n",
    "\t}\n",
    "\n",
    "\treturn output;\n",
    "}\n",
    "\n",
    "//This function returns the upper bound on the relative error\n",
    "//of an estimate for each of the given increments\n",
    "Matrix getMaxError(Matrix& increments)\n",
    "{\n",
    "\tMatrix output(1, 52);\n",
    "\tdouble c1 = (12.0 * pow(3.0,-5.0)) / (2.0 * (1.0/27.0));\n",
    "\tdouble c2 = (1.0/27.0) * pow(2,-52) / (1.0/27.0);\n",
    "\n",
    "\tfor (int i = 0; i < 52; i++)\n",
    "\t\toutput(i) = (c1 * increments(i)) + (c2 * 1.0/increments(i));\n",
    "\n",
    "\treturn output;\n",
    "}"
   ]
  },
  {
   "cell_type": "markdown",
   "metadata": {},
   "source": [
    "### Results"
   ]
  },
  {
   "cell_type": "code",
   "execution_count": 2,
   "metadata": {
    "collapsed": false
   },
   "outputs": [
    {
     "name": "stdout",
     "output_type": "stream",
     "text": [
      "Populating the interactive namespace from numpy and matplotlib\n"
     ]
    }
   ],
   "source": [
    "%pylab inline"
   ]
  },
  {
   "cell_type": "code",
   "execution_count": 3,
   "metadata": {
    "collapsed": false
   },
   "outputs": [],
   "source": [
    "n = loadtxt('n.txt')\n",
    "h = loadtxt('h.txt')\n",
    "r = loadtxt('r.txt')\n",
    "R = loadtxt('R.txt')"
   ]
  },
  {
   "cell_type": "code",
   "execution_count": 4,
   "metadata": {
    "collapsed": false
   },
   "outputs": [
    {
     "data": {
      "text/plain": [
       "<matplotlib.legend.Legend at 0x7fed29c50198>"
      ]
     },
     "execution_count": 4,
     "metadata": {},
     "output_type": "execute_result"
    },
    {
     "data": {
      "image/png": "[encoded data removed]",
      "text/plain": [
       "<matplotlib.figure.Figure at 0x7fed2c3f2b70>"
      ]
     },
     "metadata": {},
     "output_type": "display_data"
    }
   ],
   "source": [
    "semilogy(n, r, 'b-', label='r')\n",
    "semilogy(n, R, 'r--', label='R')\n",
    "xlabel('n')\n",
    "ylabel('Error')\n",
    "title('Relative and Maximum Errors of Forward Difference Approximation')\n",
    "legend()"
   ]
  },
  {
   "cell_type": "markdown",
   "metadata": {},
   "source": [
    "This plot shows the relative error for each n, and the upper bound for the error (R).  As n approaches 30, the relative error and its upper bound decreases exponentially, but increases exponentially afterward.  The approximation becomes more accurate as h grows smaller, but after a certain point the affects of catastrophic cancellation occur.  As $f(a + h)$ and $f(a)$ become increasingly close, the inherent error in subtraction outweighs the accuracy of having a small increment."
   ]
  },
  {
   "cell_type": "code",
   "execution_count": 5,
   "metadata": {
    "collapsed": false
   },
   "outputs": [
    {
     "data": {
      "text/plain": [
       "<matplotlib.legend.Legend at 0x7fed29383208>"
      ]
     },
     "execution_count": 5,
     "metadata": {},
     "output_type": "execute_result"
    },
    {
     "data": {
      "image/png": "[encoded data removed]",
      "text/plain": [
       "<matplotlib.figure.Figure at 0x7fed294972b0>"
      ]
     },
     "metadata": {},
     "output_type": "display_data"
    }
   ],
   "source": [
    "loglog(h, r, 'b-', label='r')\n",
    "loglog(h, R, 'r--', label='R')\n",
    "xlabel('h')\n",
    "ylabel('Error')\n",
    "title('Relative and Maximum Errors of Forward Difference Approximation')\n",
    "legend()"
   ]
  },
  {
   "cell_type": "markdown",
   "metadata": {},
   "source": [
    "This plot shows the same relative error and maximum relative error, but as a function of h instead of n.  The best increment to use seems to be $2^{-30}$, as it has the lowest relative error."
   ]
  },
  {
   "cell_type": "code",
   "execution_count": null,
   "metadata": {
    "collapsed": true
   },
   "outputs": [],
   "source": []
  }
 ],
 "metadata": {
  "anaconda-cloud": {},
  "kernelspec": {
   "display_name": "Python [Root]",
   "language": "python",
   "name": "Python [Root]"
  },
  "language_info": {
   "codemirror_mode": {
    "name": "ipython",
    "version": 3
   },
   "file_extension": ".py",
   "mimetype": "text/x-python",
   "name": "python",
   "nbconvert_exporter": "python",
   "pygments_lexer": "ipython3",
   "version": "3.5.2"
  }
 },
 "nbformat": 4,
 "nbformat_minor": 0
}
