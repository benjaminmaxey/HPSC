{
 "cells": [
  {
   "cell_type": "markdown",
   "metadata": {},
   "source": [
    "Ben Maxey\n",
    "\n",
    "MATH 3316\n",
    "\n",
    "10/6/16"
   ]
  },
  {
   "cell_type": "markdown",
   "metadata": {},
   "source": [
    "# Project 2 - Linear and Nonlinear Solvers"
   ]
  },
  {
   "cell_type": "markdown",
   "metadata": {},
   "source": [
    "## Part 1 - Vandermonde Matrix"
   ]
  },
  {
   "cell_type": "markdown",
   "metadata": {},
   "source": [
    "In this section, we were tasked with solving linear systems whose coefficients are given by a Vandermonde matrix.  An $(n x n)$ Vandermonde matrix $A$ is defined as $A(i,j) = v_{i-1}^{j-1}$, for $i = 1, 2, ... , n$, $j = 1, 2, ..., n$, and $v$ is given by the vector **v** $= [v_0, v_1, ..., v_{n-1}]^T$.  In this project, $n = 5, 9, 17, 33, 65$, and **v** is a column vector with $n$ equally-spaced entries from 0 to 1.  For each value of $n$, a random column vector with $n$ entries was generated using the Matrix class's built-in Random() function.  These vectors are the known solutions ($x$) for each value of $n$, and the right hand side vector ($b$) was set as the product of $A$ and $x$.  After solving each system, the error vectors were calculated by subtracting the calculated solutions from the previously generated right hand side vectors, and the residual vectors were calculated by multiplying each original coefficient matrix by the error vectors.  Finally, the norms of each error and residual vector were calculated using the Matrix class's built-in Norm() function.  To solve each system, I implemented a function that uses Gaussian elimination with partial pivoting and backward substitution to determine $x$ given $A$ and $b$.  The function is given below."
   ]
  },
  {
   "cell_type": "code",
   "execution_count": null,
   "metadata": {
    "collapsed": true
   },
   "outputs": [],
   "source": [
    "# %load vandermonde.cpp\n",
    "\n",
    "Matrix solve(Matrix A, Matrix b)\n",
    "{\n",
    "\tMatrix x(b.Rows(), 1);\n",
    "\n",
    "\t//Gaussian elimination with partial pivoting.\n",
    "\tfor (int k = 0; k < A.Cols() - 1; k++)\n",
    "\t{\n",
    "\t\t//Find largest entry in current column.\n",
    "\t\tint m = k;\n",
    "\t\tfor (int i = k + 1; i < A.Cols(); i++)\n",
    "\t\t{\n",
    "\t\t\tif (abs(A(i, k) > abs(A(m,k))))\n",
    "\t\t\t\tm = i;\n",
    "\t\t}\n",
    "\n",
    "\t\t//Swap row containing max entry with row k.\n",
    "\t\tfor (int i = k; i < A.Cols(); i++)\n",
    "\t\t{\n",
    "\t\t\tdouble temp = A(m, i);\n",
    "\t\t\tA(m, i) = A(k, i);\n",
    "\t\t\tA(k, i) = temp;\n",
    "\t\t}\n",
    "\n",
    "\t\tdouble temp = b(m, 0);\n",
    "\t\tb(m, 0) = b(k, 0);\n",
    "\t\tb(k, 0) = temp;\n",
    "\n",
    "\t\t//Carry out elimination.\n",
    "\t\tfor (int i = k + 1; i < A.Cols(); i++)\n",
    "\t\t{\n",
    "\t\t\tA(i, k) /= A(k, k);\n",
    "\n",
    "\t\t\tfor (int j = k + 1; j < A.Cols(); j++)\n",
    "\t\t\t\tA(i, j) -= A(i, k) * A(k, j);\n",
    "\n",
    "\t\t\tb(i, 0) -= A(i, k) * b(k, 0);\n",
    "\t\t}\n",
    "\t}\n",
    "\n",
    "\t//Backward substitution.\n",
    "\tfor (int i = A.Cols() - 1; i >= 0; i--)\n",
    "\t{\n",
    "\t\tdouble sum = 0;\n",
    "\n",
    "\t\tfor (int k = i + 1; k < A.Cols(); k++)\n",
    "\t\t\tsum += A(i, k) * x(k, 0);\n",
    "\n",
    "\t\tx(i, 0) = (b(i, 0) - sum) / A(i, i);\n",
    "\t}\n",
    "\n",
    "\treturn x;\n",
    "}"
   ]
  },
  {
   "cell_type": "markdown",
   "metadata": {},
   "source": [
    "This function passes both matrices by value so that the original matrices remain unaltered and can be reused in error calculation later.  In the elimination section of the function, for step $k$, the largest entry in column $k$ is selected.  The row containing this entry is swapped with row $k$.  Then, regular elimination is carried out for column $k$.  After the elimination stage $A$ is upper triangular, so backward substitution can be used to find $b$.  The remainder of vandermonde.cpp is shown below."
   ]
  },
  {
   "cell_type": "code",
   "execution_count": null,
   "metadata": {
    "collapsed": true
   },
   "outputs": [],
   "source": [
    "# %load vandermonde.cpp\n",
    "\n",
    "#include <cmath>\n",
    "\n",
    "#include \"matrix.hpp\"\n",
    "\n",
    "//*****************************************************************************\n",
    "//\tFunction definitions.\n",
    "//*****************************************************************************\n",
    "\n",
    "//Generates a Vandermonde matrix of order (size).\n",
    "Matrix generate(size_t size)\n",
    "{\n",
    "\tMatrix v = Linspace(0, 1, 1, size);\n",
    "\tMatrix A(size, size);\n",
    "\n",
    "\tfor (int i = 0; i < size; i++)\n",
    "\t{\n",
    "\t\tfor (int j = 0; j < size; j++)\n",
    "\t\t\tA(i, j) = pow(v(i), j);\n",
    "\t}\n",
    "\n",
    "\treturn A;\n",
    "}\n",
    "\n",
    "/* solve() function defined here */\n",
    "\n",
    "//Generates all matrices and vectors, solves, then calculates error and\n",
    "//residual vectors.\n",
    "int main(int argc, char* argv[])\n",
    "{\n",
    "\tMatrix A5 = generate(5);\n",
    "\tMatrix A9 = generate(9);\n",
    "\tMatrix A17 = generate(17);\n",
    "\tMatrix A33 = generate(33);\n",
    "\tMatrix A65 = generate(65);\n",
    "\n",
    "\tMatrix x5 = Random(5, 1);\n",
    "\tMatrix x9 = Random(9, 1);\n",
    "\tMatrix x17 = Random(17, 1);\n",
    "\tMatrix x33 = Random(33, 1);\n",
    "\tMatrix x65 = Random(65, 1);\n",
    "\n",
    "\tMatrix b5 = A5 * x5;\n",
    "\tMatrix b9 = A9 * x9;\n",
    "\tMatrix b17 = A17 * x17;\n",
    "\tMatrix b33 = A33 * x33;\n",
    "\tMatrix b65 = A65 * x65;\n",
    "\n",
    "\tMatrix sol5 = solve(A5, b5);\n",
    "\tMatrix sol9 = solve(A9, b9);\n",
    "\tMatrix sol17 = solve(A17, b17);\n",
    "\tMatrix sol33 = solve(A33, b33);\n",
    "\tMatrix sol65 = solve(A65, b65);\n",
    "\n",
    "\tMatrix err5 = x5 - sol5;\n",
    "\tMatrix err9 = x9 - sol9;\n",
    "\tMatrix err17 = x17 - sol17;\n",
    "\tMatrix err33 = x33 - sol33;\n",
    "\tMatrix err65 = x65 - sol65;\n",
    "\n",
    "\tMatrix res5 = A5 * err5;\n",
    "\tMatrix res9 = A9 * err9;\n",
    "\tMatrix res17 = A17 * err17;\n",
    "\tMatrix res33 = A33 * err33;\n",
    "\tMatrix res65 = A65 * err65;\n",
    "\n",
    "\tstd::cout << \"Error norm with n = 5: \" << Norm(err5) << std::endl;\n",
    "\tstd::cout << \"Error norm with n = 9: \" << Norm(err9) << std::endl;\n",
    "\tstd::cout << \"Error norm with n = 17: \" << Norm(err17) << std::endl;\n",
    "\tstd::cout << \"Error norm with n = 33: \" << Norm(err33) << std::endl;\n",
    "\tstd::cout << \"Error norm with n = 65: \" << Norm(err65) << std::endl;\n",
    "\n",
    "\tstd::cout << \"Resid norm with n = 5: \" << Norm(res5) << std::endl;\n",
    "\tstd::cout << \"Resid norm with n = 9: \" << Norm(res9) << std::endl;\n",
    "\tstd::cout << \"Resid norm with n = 17: \" << Norm(res17) << std::endl;\n",
    "\tstd::cout << \"Resid norm with n = 33: \" << Norm(res33) << std::endl;\n",
    "\tstd::cout << \"Resid norm with n = 65: \" << Norm(res65) << std::endl;\n",
    "}"
   ]
  },
  {
   "cell_type": "markdown",
   "metadata": {},
   "source": [
    "The error of each solve was calculated by subtracting the solutions from the known $x$ vectors.  The residual vectors were calculated by multiplying each coefficient matrix with its corresponding error vector.  The results of this program were redirected into a text file, \"vandermonde.txt,\" which is shown below."
   ]
  },
  {
   "cell_type": "code",
   "execution_count": null,
   "metadata": {
    "collapsed": true
   },
   "outputs": [],
   "source": [
    "# %load vandermonde.txt\n",
    "Error norm with n = 5: 2.82112e-14\n",
    "Error norm with n = 9: 5.01012e-11\n",
    "Error norm with n = 17: 0.00194135\n",
    "Error norm with n = 33: 411.436\n",
    "Error norm with n = 65: 2339.96\n",
    "Resid norm with n = 5: 5.67799e-16\n",
    "Resid norm with n = 9: 6.3029e-16\n",
    "Resid norm with n = 17: 2.8805e-15\n",
    "Resid norm with n = 33: 7.08161e-14\n",
    "Resid norm with n = 65: 8.38081e-13"
   ]
  },
  {
   "cell_type": "markdown",
   "metadata": {
    "collapsed": true
   },
   "source": [
    "The Vandermonde matrix is notoriously ill-conditioned.  A measure of the conditioning of a matrix is the \"condition number,\" which is calculated as follows: $k(A) = ||A||_2||A^{-1}||_2$.  After solving each system, I calculated the condition number of each Vandermonde matrix using the following code.  The results are given below the code."
   ]
  },
  {
   "cell_type": "code",
   "execution_count": null,
   "metadata": {
    "collapsed": true
   },
   "outputs": [],
   "source": [
    "Matrix A5i = Inverse(A5);\n",
    "Matrix A9i = Inverse(A9);\n",
    "Matrix A17i = Inverse(A17);\n",
    "Matrix A33i = Inverse(A33);\n",
    "Matrix A65i = Inverse(A65);\n",
    "\n",
    "double k5 = Norm(A5) * Norm(A5i);\n",
    "double k9 = Norm(A9) * Norm(A9i);\n",
    "double k17 = Norm(A17) * Norm(A17i);\n",
    "double k33 = Norm(A33) * Norm(A33i);\n",
    "double k65 = Norm(A65) * Norm(A65i);\n",
    "\n",
    "std::cout << \"Condition number with n = 5: \" << k5 << std::endl;\n",
    "std::cout << \"Condition number with n = 9: \" << k9 << std::endl;\n",
    "std::cout << \"Condition number with n = 17: \" << k17 << std::endl;\n",
    "std::cout << \"Condition number with n = 33: \" << k33 << std::endl;\n",
    "std::cout << \"Condition number with n = 65: \" << k65 << std::endl;\n",
    "                \n",
    "//****************************************************************\n",
    "//****************************************************************\n",
    "\n",
    "Condition number with n = 5: 749.246\n",
    "Condition number with n = 9: 2.23975e+06\n",
    "Condition number with n = 17: 2.77633e+13\n",
    "Condition number with n = 33: 107.027\n",
    "Condition number with n = 65: 234.662"
   ]
  },
  {
   "cell_type": "markdown",
   "metadata": {},
   "source": [
    "It might seem odd that for $n$ = 33 and $n$ = 65 the condition number is so low; however, these condition numbers were never actually calculated.  After calling the Inverse() function, errors were thrown for $A_{33}$ and $A_{65}$ because they were singular.  Thus, the condition number of both $A_{33}$ and $A_{65}$ can be taken as infinity.  The condition number is directly proportional to the upper bound on the error.  Thus, because the condition number grows exponentially as $n$ increases, the error in solving these systems also grows exponentially as $n$ increases.  Although the residual vector norms are negligible compared to the error vectors, they cannot be used as an indication of the solving method's accuracy.  The residual vector can be interpreted as the perturbation in $b$ required for the calculated solutions ($sol5$, $sol9$, etc.) to be the true solutions of the system.  Because the system is ill-conditioned, small perturbations in $b$ can cause large changes in the solutions (i.e. small residual vectors can still imply large absolute errors for ill-conditioned systems)."
   ]
  },
  {
   "cell_type": "markdown",
   "metadata": {},
   "source": [
    "## Part 2 - Newton's Method"
   ]
  },
  {
   "cell_type": "markdown",
   "metadata": {},
   "source": [
    "In this section, I implemented Newton's method for approximating nonlinear functions and tested the accuracy of this method.  The newton() function approximates a zero of a function given the function, its derivative, an initial guess, a maximum number of iterations, a maximum error tolerance, and a flag that determines whether details of each iteration are printed.  The newton() function uses the fixed-point iteration $x_{n+1} = x_n - \\frac{f(x_n)}{f'(x_n)}$ to approximate a zero of $f(x)$ to a given tolerance.  The iteration ceases when the difference between $x_{n+1}$ and $x_n$ is less than the given tolerance.  If \"show_iterates\" is true, the function will print the iteration count, the current guess, the solution update, and current residual to the console."
   ]
  },
  {
   "cell_type": "code",
   "execution_count": null,
   "metadata": {
    "collapsed": true
   },
   "outputs": [],
   "source": [
    "# %load newton.cpp\n",
    "\n",
    "#include \"newton.hpp\"\n",
    "\n",
    "double newton(Fcn& f, Fcn& df, double x, int maxit, \n",
    "\t\t\t  double tol, bool show_iterates)\n",
    "{\t\n",
    "\tdouble fx = f(x);\n",
    "\t\n",
    "\tfor (int i = 0; i < maxit; i++)\n",
    "\t{\n",
    "\t\tdouble fp = df(x);\n",
    "\t\tdouble d = fx/fp;\n",
    "\t\tx -= d;\n",
    "\t\tfx = f(x);\n",
    "\n",
    "\t\tif (d < 0)\n",
    "\t\t\td = 0 - d;\n",
    "\n",
    "\t\tif (show_iterates)\n",
    "\t\t{\n",
    "\t\t\tstd::cout << \"----------------------------------\" << std::endl\n",
    "\t\t\t\t\t  << \"Iteration \" << i + 1 << \": \" << std::endl\n",
    "\t\t\t\t\t  << \"\\tCurrent guess: x = \" << x << std::endl\n",
    "\t\t\t\t\t  << \"\\tSolution update: |h| = \" << d << std::endl\n",
    "\t\t\t\t\t  << \"\\tCurrent residual: f(x) = \" << fx << std::endl\n",
    "\t\t\t\t\t  << std::endl;\n",
    "\t\t}\n",
    "\n",
    "\t\tif (d < tol)\n",
    "\t\t{\n",
    "\t\t\tif (show_iterates)\n",
    "\t\t\t{\n",
    "\t\t\t\tstd::cout << \"\\tConverged at x = \" << x << std::endl;\n",
    "\t\t\t\tstd::cout << \"----------------------------------\" << std::endl;\n",
    "\t\t\t}\n",
    "\t\t\treturn x;\n",
    "\t\t}\n",
    "\t}\n",
    "}"
   ]
  },
  {
   "cell_type": "markdown",
   "metadata": {},
   "source": [
    "The function used to test the newton() method is $f(x) = x^2(x - 3)(x + 2)$, for which the zeros are $x = 3$, $x = -2$, and $x = 0$.  $f(x)$ is realized by the definition of a subclass of the Fcn class, which was provided to us.  The function will be run for three different initial guesses (-3, 1, 2) and three different tolerances ($10^{-1}$, $10^{-5}$, $10^{-9}$), for a total of 9 runs.  The maximum number of iterations in each run is set at 50.  The test_newton program is shown below."
   ]
  },
  {
   "cell_type": "code",
   "execution_count": null,
   "metadata": {
    "collapsed": true
   },
   "outputs": [],
   "source": [
    "# %load test_newton.cpp\n",
    "\n",
    "#include <iostream>\n",
    "#include <cmath>\n",
    "\n",
    "#include \"newton.hpp\"\n",
    "#include \"fcn.hpp\"\n",
    "\n",
    "//*****************************************************************************\n",
    "//\tSubclass definitions.\n",
    "//*****************************************************************************\n",
    "\n",
    "//f(x) = x^2(x - 3)(x + 2) = x^4 - x^3 - 6x^2\n",
    "class Func : public Fcn\n",
    "{\n",
    "public:\n",
    "\tdouble operator() (double x)\n",
    "\t{\n",
    "\t\treturn pow(x, 2) * (x - 3) * (x + 2);\n",
    "\t}\n",
    "};\n",
    "\n",
    "//f'(x) = 4x^3 - 3x^2 - 12x\n",
    "class Deriv : public Fcn\n",
    "{\n",
    "public:\n",
    "\tdouble operator() (double x)\n",
    "\t{\n",
    "\t\treturn 4 * pow(x, 3) - 3 * pow(x, 2) - 12 * x;\n",
    "\t}\n",
    "};\n",
    "\n",
    "//*****************************************************************************\n",
    "//\tFunction definition.\n",
    "//*****************************************************************************\n",
    "\n",
    "int main(int argc, char* argv[])\n",
    "{\n",
    "\tFunc fx;\n",
    "\tDeriv fp;\t\n",
    "\n",
    "\tdouble z1 = newton(fx, fp, -3, 50, pow(10, -1), true);\n",
    "\tdouble z2 = newton(fx, fp, 1, 50, pow(10, -1), true);\n",
    "\tdouble z3 = newton(fx, fp, 2, 50, pow(10, -1), true);\n",
    "\tdouble z4 = newton(fx, fp, -3, 50, pow(10, -5), true);\n",
    "\tdouble z5 = newton(fx, fp, 1, 50, pow(10, -5), true);\n",
    "\tdouble z6 = newton(fx, fp, 2, 50, pow(10, -5), true);\n",
    "\tdouble z7 = newton(fx, fp, -3, 50, pow(10, -9), true);\n",
    "\tdouble z8 = newton(fx, fp, 1, 50, pow(10, -9), true);\n",
    "\tdouble z9 = newton(fx, fp, 2, 50, pow(10, -9), true);\n",
    "}"
   ]
  },
  {
   "cell_type": "markdown",
   "metadata": {},
   "source": [
    "Because they are several hundred lines long, the results from test_newton.cpp are not included in this report, but a brief description of the results is warranted.  Test 1 converged to -2.00045 in 4 iterations, Test 2 converged to 0.057983 in 4 iterations, Test 3 converged to -2 in 2 iterations, Test 4 converged to -2 in 6 iterations, Test 5 converged to 7.1416e-6 in 17 iterations, Test 6 converged to -2 in 2 iterations, Test 7 converged to -2 in 7 iterations, Test 8 converged to 8.71761e-10 in 30 iterations, and Test 9 converged to -2 in 2 iterations.  The full details of the results can be seen by running test_newton after compiling the included source files.\n",
    "\n",
    "First, it is worth noting that Tests 3, 6, and 9 all converge in 2 iterations because the exact zero is found in two iterations.  Choosing $x = 2$ as the initial guess results in the second iteration returning $x_2 = -2$.  Thus, if 2 is the initial guess, changing the tolerance does not influence the number of iterations required for convergence.  In the case of Tests 1, 4, and 7, the number of iterations required for convergence is dependent on the error tolerance as the exact zero is never found.  Because the error decreases quadratically for each iteration, one would expect that if the tolerance decreases from $10^{-1}$ to $10^{-5}$, the number of iterations should increase by approximately 2 or 3:\n",
    "\n",
    "$$|r - x_{n}| < 10^{-1}$$\n",
    "$$|r - x_{n+1}| < C_1(10^{-1})^2 = C_1(10^{-2})$$\n",
    "$$|r - x_{n+2}| < C_2(10^{-4})$$\n",
    "$$|r - x_{n+3}| < C_3(10^{-8})$$\n",
    "$$|r - x_{n+4}| < C_4(10^{-16})$$\n",
    "\n",
    "Thus, it makes complete sense that Test 4 took only 2 more iterations than Test 1 and that Test 7 took only 1 more iteration than Test 4.  For Tests 2, 5, and 8, the rate of convergence is linear because $x = 0$ is a double root.  The root $x = 3$ was never found in these tests because the initial guesses used did not lead to this root.  A different choice of initial guess would be required for newton() to find $x = 3$."
   ]
  },
  {
   "cell_type": "markdown",
   "metadata": {},
   "source": [
    "## Part 3 - Application: Kepler's Equation"
   ]
  },
  {
   "cell_type": "markdown",
   "metadata": {},
   "source": [
    "An application of nonlinear solvers is Kepler's equation describing an object's position in an elliptical orbit: $\\epsilon sin(w) - w = t$, where $\\epsilon = \\sqrt{1 - \\frac{b^2}{a^2}}$ is the object's orbital eccentricity, $t$ is proportional to time, and $w$ is the angle of the object of the object around its elliptical orbit.  For this project, $a$ is set as 2.0 and $b$ is set as 1.25.  The ultimate goal of this problem is to be able to describe the x and y position of an object at any time $t$.  The first step is to determine a residual function that can be used to solve for $w$ for each value of $t$.  This can be accomplished simply by subtracting $t$ from both sides of the equation given above: $f(w) = \\epsilon sin(w) - w - t$, $f'(w) = \\epsilon cos(w) - 1$.  An interesting problem arose in dealing with $t$.  Because Fcn objects can only take one parameter in the () operator, I set $t$ as a member variable of the derived class, Func.  Each time a Func object was instantiated, a value for $t$ was passed to it in its constructor.  A new Func object was instantiated for each value of $t$.  Once I had obtained $f(w)$ and $f'(w)$, solving for $w$ was simple.  The newton() function written in Part 2 was called for each $t = {0, 0.001, ... , 10}$ with a tolerance of $10^{-5}$ and a maximum of 6 iterations.  The calculated angles were stored in the vector $w$.  The radial position of the object could then be determined from the equation $r(w) = \\frac{ab}{\\sqrt{(bcos(w))^2 + (asin(w))^2}}$.  Each $r$ was stored in a vector.  Finally, the x and y positions were calculated by evaluating the functions $x(t) = r cos(w)$ and $y(t) = r sin(w)$ for all $w$.  The code for this part is shown below."
   ]
  },
  {
   "cell_type": "code",
   "execution_count": null,
   "metadata": {
    "collapsed": true
   },
   "outputs": [],
   "source": [
    "# %load kepler.cpp\n",
    "\n",
    "#include <iostream>\n",
    "#include <cmath>\n",
    "\n",
    "#include \"matrix.hpp\"\n",
    "#include \"newton.hpp\"\n",
    "#include \"fcn.hpp\"\n",
    "\n",
    "//*****************************************************************************\n",
    "//\tSubclass definitions.\n",
    "//*****************************************************************************\n",
    "\n",
    "//f(x) = [(1 - b^2/a^2)^(1/2)]sin(x) - x - t\n",
    "//b = 1.25, a = 2, t = time\n",
    "class Func : public Fcn\n",
    "{\n",
    "private:\n",
    "\tdouble t;\n",
    "\tdouble e;\n",
    "public:\n",
    "\tFunc()\n",
    "\t{\n",
    "\t\tt = 0;\n",
    "\t\te = sqrt(1 - (1.25 * 1.25)/(4));\n",
    "\t}\n",
    "\n",
    "\tFunc(double time)\n",
    "\t{\n",
    "\t\tt = time;\n",
    "\t\te = sqrt(1 - (1.25 * 1.25)/(4));\n",
    "\t}\n",
    "\n",
    "\tdouble operator() (double x)\n",
    "\t{\n",
    "\t\treturn e * sin(x) - x - t;\n",
    "\t}\n",
    "};\n",
    "\n",
    "//f'(x) = [(1 - b^2/a^2)^(1/2)]cos(x) - 1\n",
    "class Deriv : public Fcn\n",
    "{\n",
    "private:\n",
    "\tdouble e = sqrt(1 - (1.25 * 1.25)/(4));\n",
    "public:\n",
    "\tdouble operator() (double x)\n",
    "\t{\n",
    "\t\treturn e * cos(x) - 1;\n",
    "\t}\n",
    "};\n",
    "\n",
    "//r(x) = ab/{[(bcos(x))^2 + (asin(x))^2]^(1/2)}\n",
    "//b = 1.25, a = 2\n",
    "class Radial : public Fcn\n",
    "{\n",
    "public:\n",
    "\tdouble operator() (double x)\n",
    "\t{\n",
    "\t\tdouble denominator = sqrt(pow(1.25 * cos(x), 2) + pow(2 * sin(x), 2));\n",
    "\t\treturn 2.5 / denominator;\n",
    "\t}\n",
    "};\n",
    "\n",
    "//*****************************************************************************\n",
    "//\tFunction definitions.\n",
    "//*****************************************************************************\n",
    "\n",
    "//Uses newton() function to determine a zero of Kepler's equation for each of\n",
    "//the given times.  The initial guess for each solve is the result of the\n",
    "//previous solve.\n",
    "Matrix solve(int initialGuess, Matrix& times)\n",
    "{\n",
    "\tMatrix output(1, times.Cols());\n",
    "\tdouble initial = initialGuess;\n",
    "\n",
    "\tfor (int i = 0; i < times.Cols(); i++)\n",
    "\t{\n",
    "\t\tdouble time = times(i);\n",
    "\n",
    "\t\tFunc f(time);\n",
    "\t\tDeriv df;\n",
    "\n",
    "\t\toutput(i) = initial = newton(f, df, initial, 6, pow(10, -5), false);\n",
    "\t}\n",
    "\n",
    "\treturn output;\n",
    "}\n",
    "\n",
    "//Calculates the x value of the object at each angle.\n",
    "Matrix computeX(Matrix& angles)\n",
    "{\n",
    "\tMatrix output(1, angles.Cols());\n",
    "\tRadial r;\n",
    "\n",
    "\tfor (int i = 0; i < angles.Cols(); i++)\n",
    "\t\toutput(i) = r(angles(i)) * cos(angles(i));\n",
    "\n",
    "\treturn output;\n",
    "}\n",
    "\n",
    "//Calculates the y value of the object at each angle.\n",
    "Matrix computeY(Matrix& angles)\n",
    "{\n",
    "\tMatrix output(1, angles.Cols());\n",
    "\tRadial r;\n",
    "\n",
    "\tfor (int i = 0; i < angles.Cols(); i++)\n",
    "\t\toutput(i) = r(angles(i)) * sin(angles(i));\n",
    "\n",
    "\treturn output;\n",
    "}\n",
    "\n",
    "//Generates times from 0 to 10, then determines angles and positions.\n",
    "int main(int argc, char** argv)\n",
    "{\n",
    "\tMatrix times = Linspace(0, 10, 1, pow(10,4) + 1);\n",
    "\ttimes.Write(\"t.txt\");\n",
    "\n",
    "\tMatrix w = solve(0, times);\n",
    "\tw.Write(\"w.txt\");\n",
    "\n",
    "\tMatrix x = computeX(w);\n",
    "\tx.Write(\"x.txt\");\n",
    "\n",
    "\tMatrix y = computeY(w);\n",
    "\ty.Write(\"y.txt\");\n",
    "}"
   ]
  },
  {
   "cell_type": "markdown",
   "metadata": {},
   "source": [
    "The results for this part are reasonably straightforward.  The graphs of $x(t)$ versus $t$, $y(t)$ versus $t$, and $y(t)$ versus $x(t)$ are given below.  The x values range from -2 to 2, and the y values range from -1.25 to 1.25, which is consistent with the values of $b$ and $a$.  This consistency suggests that the results are accurate."
   ]
  },
  {
   "cell_type": "code",
   "execution_count": 1,
   "metadata": {
    "collapsed": false
   },
   "outputs": [
    {
     "name": "stdout",
     "output_type": "stream",
     "text": [
      "Populating the interactive namespace from numpy and matplotlib\n"
     ]
    }
   ],
   "source": [
    "%pylab inline"
   ]
  },
  {
   "cell_type": "code",
   "execution_count": 2,
   "metadata": {
    "collapsed": true
   },
   "outputs": [],
   "source": [
    "t = loadtxt('t.txt')\n",
    "x = loadtxt('x.txt')\n",
    "y = loadtxt('y.txt')"
   ]
  },
  {
   "cell_type": "code",
   "execution_count": 3,
   "metadata": {
    "collapsed": false
   },
   "outputs": [
    {
     "data": {
      "text/plain": [
       "<matplotlib.text.Text at 0x7f56a12aa668>"
      ]
     },
     "execution_count": 3,
     "metadata": {},
     "output_type": "execute_result"
    },
    {
     "data": {
      "image/png": "[encoded data removed]",
      "text/plain": [
       "<matplotlib.figure.Figure at 0x7f56a12d3e48>"
      ]
     },
     "metadata": {},
     "output_type": "display_data"
    }
   ],
   "source": [
    "plot(t,x)\n",
    "xlabel('$t$')\n",
    "ylabel('$x(t)$')\n",
    "title('X-position of Object in Elliptical Orbit')"
   ]
  },
  {
   "cell_type": "code",
   "execution_count": 4,
   "metadata": {
    "collapsed": false
   },
   "outputs": [
    {
     "data": {
      "text/plain": [
       "<matplotlib.text.Text at 0x7f569e681860>"
      ]
     },
     "execution_count": 4,
     "metadata": {},
     "output_type": "execute_result"
    },
    {
     "data": {
      "image/png": "[encoded data removed]",
      "text/plain": [
       "<matplotlib.figure.Figure at 0x7f569e6510f0>"
      ]
     },
     "metadata": {},
     "output_type": "display_data"
    }
   ],
   "source": [
    "plot(t,y)\n",
    "xlabel('$t$')\n",
    "ylabel('$y(t)$')\n",
    "title('Y-position of Object in Elliptical Orbit')"
   ]
  },
  {
   "cell_type": "code",
   "execution_count": 5,
   "metadata": {
    "collapsed": false
   },
   "outputs": [
    {
     "data": {
      "text/plain": [
       "<matplotlib.text.Text at 0x7f569e5f27b8>"
      ]
     },
     "execution_count": 5,
     "metadata": {},
     "output_type": "execute_result"
    },
    {
     "data": {
      "image/png": "[encoded data removed]",
      "text/plain": [
       "<matplotlib.figure.Figure at 0x7f569e65b080>"
      ]
     },
     "metadata": {},
     "output_type": "display_data"
    }
   ],
   "source": [
    "plot(x,y)\n",
    "xlabel('$x(t)$')\n",
    "ylabel('$y(t)$')\n",
    "title('Elliptical Orbit')"
   ]
  },
  {
   "cell_type": "markdown",
   "metadata": {
    "collapsed": true
   },
   "source": [
    "## Appendix"
   ]
  },
  {
   "cell_type": "markdown",
   "metadata": {},
   "source": [
    "### Makefile"
   ]
  },
  {
   "cell_type": "code",
   "execution_count": null,
   "metadata": {
    "collapsed": true
   },
   "outputs": [],
   "source": [
    "# %load Makefile\n",
    "\n",
    "STD = -std=c++11\n",
    "\n",
    "all: vandermonde test_newton kepler\n",
    "\n",
    "vandermonde: vandermonde.o matrix.o\n",
    "\tg++ $^ -o $@ $(STD)\n",
    "\n",
    "test_newton: test_newton.o newton.o\n",
    "\tg++ $^ -o $@ $(STD)\n",
    "\n",
    "kepler: kepler.o newton.o matrix.o\n",
    "\tg++ $^ -o $@ $(STD)\n",
    "\n",
    "vandermonde.o: vandermonde.cpp\n",
    "\tg++ -c vandermonde.cpp $(STD)\n",
    "\n",
    "matrix.o: matrix.cpp\n",
    "\tg++ -c matrix.cpp $(STD)\n",
    "\n",
    "test_newton.o: test_newton.cpp\n",
    "\tg++ -c test_newton.cpp $(STD)\n",
    "\n",
    "newton.o: newton.cpp\n",
    "\tg++ -c newton.cpp $(STD)\n",
    "\n",
    "kepler.o: kepler.cpp\n",
    "\tg++ -c kepler.cpp $(STD)\n",
    "\n",
    "clean:\n",
    "\trm -f *o\n",
    "\trm -f *txt"
   ]
  }
 ],
 "metadata": {
  "anaconda-cloud": {},
  "kernelspec": {
   "display_name": "Python [Root]",
   "language": "python",
   "name": "Python [Root]"
  },
  "language_info": {
   "codemirror_mode": {
    "name": "ipython",
    "version": 3
   },
   "file_extension": ".py",
   "mimetype": "text/x-python",
   "name": "python",
   "nbconvert_exporter": "python",
   "pygments_lexer": "ipython3",
   "version": "3.5.2"
  }
 },
 "nbformat": 4,
 "nbformat_minor": 0
}
